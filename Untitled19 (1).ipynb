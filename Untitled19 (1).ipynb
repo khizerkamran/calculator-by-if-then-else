{
 "cells": [
  {
   "cell_type": "code",
   "execution_count": null,
   "metadata": {},
   "outputs": [
    {
     "name": "stdout",
     "output_type": "stream",
     "text": [
      "10+5\n"
     ]
    }
   ],
   "source": [
    "age=15\n",
    "print('10+5')\n",
    "age = int(input(\"enter your ans \"))\n",
    "if (age==15):\n",
    "    print('correct')\n",
    "else:\n",
    "    print('wrong')\n",
    "    \n",
    "ae=5\n",
    "print('10-5')\n",
    "ae = int(input(\"enter your ans \"))\n",
    "if (ae==5):\n",
    "    print('correct')\n",
    "else:\n",
    "    print('wrong')\n",
    "    \n",
    "age=1\n",
    "print('5/5')\n",
    "age = int(input(\"enter your ans \"))\n",
    "if (age==1):\n",
    "    print('correct')\n",
    "else:\n",
    "    print('wrong')\n",
    "age=4\n",
    "print('2**2')\n",
    "age = int(input(\"enter your ans \"))\n",
    "if (age==4):\n",
    "    print('correct')\n",
    "else:\n",
    "    print('wrong')\n",
    "age=25\n",
    "print('5*5')\n",
    "age = int(input(\"enter your ans \"))\n",
    "if (age==25):\n",
    "    print('correct')\n",
    "else:\n",
    "    print('wrong')"
   ]
  },
  {
   "cell_type": "code",
   "execution_count": null,
   "metadata": {},
   "outputs": [],
   "source": []
  }
 ],
 "metadata": {
  "kernelspec": {
   "display_name": "Python 3",
   "language": "python",
   "name": "python3"
  },
  "language_info": {
   "codemirror_mode": {
    "name": "ipython",
    "version": 3
   },
   "file_extension": ".py",
   "mimetype": "text/x-python",
   "name": "python",
   "nbconvert_exporter": "python",
   "pygments_lexer": "ipython3",
   "version": "3.8.6"
  }
 },
 "nbformat": 4,
 "nbformat_minor": 4
}
